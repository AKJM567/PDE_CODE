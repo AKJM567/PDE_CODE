{
  "nbformat": 4,
  "nbformat_minor": 0,
  "metadata": {
    "colab": {
      "provenance": [],
      "include_colab_link": true
    },
    "kernelspec": {
      "name": "python3",
      "display_name": "Python 3"
    },
    "language_info": {
      "name": "python"
    }
  },
  "cells": [
    {
      "cell_type": "markdown",
      "metadata": {
        "id": "view-in-github",
        "colab_type": "text"
      },
      "source": [
        "<a href=\"https://colab.research.google.com/github/AKJM567/PDE_CODE/blob/main/experiment_2.ipynb\" target=\"_parent\"><img src=\"https://colab.research.google.com/assets/colab-badge.svg\" alt=\"Open In Colab\"/></a>"
      ]
    },
    {
      "cell_type": "code",
      "execution_count": null,
      "metadata": {
        "id": "PN6X4qsCR5dC"
      },
      "outputs": [],
      "source": [
        "import numpy as np"
      ]
    },
    {
      "cell_type": "markdown",
      "source": [],
      "metadata": {
        "id": "NLMKKsYrR96e"
      }
    },
    {
      "cell_type": "code",
      "source": [
        "#creatimg a 1D array\n",
        "array_1d = np.array([1,2,3,4,5])\n",
        "print(\"1D Array:\",array_1d)\n",
        "\n",
        "#creating a 2D array\n",
        "array_2d = np.array([[1,2,3],[4,5,6]])\n",
        "print(\"2d Array:\\n\",array_2d)"
      ],
      "metadata": {
        "colab": {
          "base_uri": "https://localhost:8080/"
        },
        "id": "pXC64MVKR_3_",
        "outputId": "c844c6e1-8da5-45dd-c82c-fdd915bd9c90"
      },
      "execution_count": null,
      "outputs": [
        {
          "output_type": "stream",
          "name": "stdout",
          "text": [
            "1D Array: [1 2 3 4 5]\n",
            "2d Array:\n",
            " [[1 2 3]\n",
            " [4 5 6]]\n"
          ]
        }
      ]
    },
    {
      "source": [
        "#creating an array of zeros\n",
        "zeros = np.zeros((2,3))\n",
        "print()\n",
        "\n",
        "#creating an array of ones\n",
        "ones = np.ones((2,3))\n",
        "print(\"Array of ones:\\n\",ones)\n",
        "\n",
        "#creating an array with a range of values\n",
        "range_array = np.arange(10) # Changed 'arrange' to 'arange'\n",
        "print(\"Range Array:\", range_array)\n",
        "\n",
        "#creating an array with evenly spaced values\n",
        "linspace_array = np.linspace(0,1,5)\n",
        "print(\"linspace array:\",linspace_array)"
      ],
      "cell_type": "code",
      "metadata": {
        "colab": {
          "base_uri": "https://localhost:8080/"
        },
        "id": "x7Xrhv8-aMs7",
        "outputId": "98962ba6-3fd9-4f32-9511-b96ece0f474a"
      },
      "execution_count": null,
      "outputs": [
        {
          "output_type": "stream",
          "name": "stdout",
          "text": [
            "\n",
            "Array of ones:\n",
            " [[1. 1. 1.]\n",
            " [1. 1. 1.]]\n",
            "Range Array: [0 1 2 3 4 5 6 7 8 9]\n",
            "linspace array: [0.   0.25 0.5  0.75 1.  ]\n"
          ]
        }
      ]
    },
    {
      "source": [
        "#Element-wise addition\n",
        "a=np.array([1,2,3])\n",
        "b=np.array([4,5,6])\n",
        "print(\"Addition:\",a+b)\n",
        "\n",
        "#Element-wise substraction\n",
        "print(\"substraction:\",a-b) #Fixed: Removed the unexpected indentation\n",
        "\n",
        "#Element-wise multiplication\n",
        "print(\"multiplication:\",a*b) #Fixed: Corrected the syntax error by adding quotes around \"multiplication:\"\n",
        "\n",
        "#Element-wise division\n",
        "print(\"division:\",a/b) #Fixed: Added code for element-wise division and formatted the output"
      ],
      "cell_type": "code",
      "metadata": {
        "colab": {
          "base_uri": "https://localhost:8080/"
        },
        "id": "R7AtbVZnesHB",
        "outputId": "ee985d3f-571a-49a8-945f-8d56af37f872"
      },
      "execution_count": null,
      "outputs": [
        {
          "output_type": "stream",
          "name": "stdout",
          "text": [
            "Addition: [5 7 9]\n",
            "substraction: [-3 -3 -3]\n",
            "multiplication: [ 4 10 18]\n",
            "division: [0.25 0.4  0.5 ]\n"
          ]
        }
      ]
    },
    {
      "cell_type": "code",
      "source": [
        "import sympy as sp"
      ],
      "metadata": {
        "id": "FQK5Nvaef1hy"
      },
      "execution_count": null,
      "outputs": []
    },
    {
      "cell_type": "code",
      "source": [
        "#define symbols\n",
        "x,y = sp.symbols('x,y')\n",
        "\n",
        "#define an expression\n",
        "expr=x**2 + 2*x + 1\n",
        "\n",
        "#simplify the expression\n",
        "simplified_expr = sp.simplify(expr)\n",
        "print(f\"simplified  expression:{simplified_expr}\")\n",
        "\n"
      ],
      "metadata": {
        "id": "5lhYgbZVgI1h"
      },
      "execution_count": null,
      "outputs": []
    }
  ]
}